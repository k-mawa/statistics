{
 "cells": [
  {
   "cell_type": "code",
   "execution_count": 1,
   "metadata": {
    "collapsed": true
   },
   "outputs": [],
   "source": [
    "import numpy as np\n",
    "from __future__ import division#これがないとpy2だと5/2=2となってしまう^^;"
   ]
  },
  {
   "cell_type": "code",
   "execution_count": null,
   "metadata": {
    "collapsed": true
   },
   "outputs": [],
   "source": [
    "#これから分散の解説をpythonコーディングを含めて解説していきます^^\n",
    "#分散は、「データがどのくらいばらつきがあるか」を示すために考えられた指標です。\n",
    "#とりあえず計算して色々なデータ同士のばらつきの大きさを比較すると分散の便利さが実感できると思います。"
   ]
  },
  {
   "cell_type": "code",
   "execution_count": 4,
   "metadata": {
    "collapsed": false
   },
   "outputs": [
    {
     "data": {
      "text/plain": [
       "array([[ 5],\n",
       "       [24],\n",
       "       [54],\n",
       "       [14],\n",
       "       [24]])"
      ]
     },
     "execution_count": 4,
     "metadata": {},
     "output_type": "execute_result"
    }
   ],
   "source": [
    "#ある国Xの適当に声をかけた人５人の所持金（単位：ドル）とするとき、(5ドル、２４ドル、５４ドル、１４ドル、２４ドル)であった。\n",
    "arr_1 = np.array([[5],[24],[54],[14],[24]])\n",
    "arr_1"
   ]
  },
  {
   "cell_type": "code",
   "execution_count": 5,
   "metadata": {
    "collapsed": true
   },
   "outputs": [],
   "source": [
    "#分散は{（データの値-平均値）＾２＋・・・＋（データの値-平均値）＾２}÷データの個数　です。\n",
    "\n",
    "#平均を引く理由：データを平均値を基準としてどのくらい離れてるかを計算するため\n",
    "#２乗する理由：データの値-平均値の全データをそのまま足すと、合計0になってしまい、はなれている距離の計算ができなくなるので、\n",
    "#２乗することで、相対距離が示せるように工夫されているというわけです（問題点：単位は今回の場合だとドルなはずですが、分散はドル^2という謎の単位になってしまう）"
   ]
  },
  {
   "cell_type": "code",
   "execution_count": 6,
   "metadata": {
    "collapsed": false
   },
   "outputs": [
    {
     "data": {
      "text/plain": [
       "272.15999999999997"
      ]
     },
     "execution_count": 6,
     "metadata": {},
     "output_type": "execute_result"
    }
   ],
   "source": [
    "#では、分散を出しましょう\n",
    "np.var(arr_1)  "
   ]
  },
  {
   "cell_type": "code",
   "execution_count": 7,
   "metadata": {
    "collapsed": false
   },
   "outputs": [
    {
     "data": {
      "text/plain": [
       "array([[10],\n",
       "       [10],\n",
       "       [10],\n",
       "       [11],\n",
       "       [12]])"
      ]
     },
     "execution_count": 7,
     "metadata": {},
     "output_type": "execute_result"
    }
   ],
   "source": [
    "#272・・・とでました、これだけだと何も役立ちません。ということで、比べる対象を用意します。\n",
    "#ある配給制の国Yの適当に声をかけた人５人の所持金（単位：ドル）とする）とするとき、(10ドル、10ドル、10ドル、11ドル、12ドル)であった。と、します。\n",
    "arr_2 = np.array([[10],[10],[10],[11],[12]])\n",
    "arr_2"
   ]
  },
  {
   "cell_type": "code",
   "execution_count": 8,
   "metadata": {
    "collapsed": false
   },
   "outputs": [
    {
     "data": {
      "text/plain": [
       "0.64000000000000001"
      ]
     },
     "execution_count": 8,
     "metadata": {},
     "output_type": "execute_result"
    }
   ],
   "source": [
    "#では、分散を出しましょう\n",
    "np.var(arr_2)  "
   ]
  },
  {
   "cell_type": "code",
   "execution_count": 9,
   "metadata": {
    "collapsed": true
   },
   "outputs": [],
   "source": [
    "#0.64ですね。ここでようやく分散が役立ちます。\n",
    "#ある国Xの適当に声をかけた人５人の所持金（単位：ドル）のばらつき度（分散）は、約272\n",
    "#ある国Yの適当に声をかけた人５人の所持金（単位：ドル）のばらつき度（分散）は、約0.64\n",
    "#ある国Yは配給制なので、さすがにばらつきは小さいなぁ　という感想くらいは科学的に言えるようになりました^^"
   ]
  },
  {
   "cell_type": "code",
   "execution_count": 10,
   "metadata": {
    "collapsed": true
   },
   "outputs": [],
   "source": [
    "#ところで、分散について（問題点：単位は今回の場合だとドルなはずですが、分散はドル^2という謎の単位になってしまう）ということがありましたね、\n",
    "#これを解決できると、よりよいですよね？どうするか？、平方根とればドル^２がドルに戻りますよね、というわけです、これが標準偏差です。\n",
    "#では２国のアンケート結果の標準偏差を求めましょう"
   ]
  },
  {
   "cell_type": "code",
   "execution_count": 11,
   "metadata": {
    "collapsed": false
   },
   "outputs": [
    {
     "data": {
      "text/plain": [
       "16.497272501841024"
      ]
     },
     "execution_count": 11,
     "metadata": {},
     "output_type": "execute_result"
    }
   ],
   "source": [
    "np.std(arr_1) "
   ]
  },
  {
   "cell_type": "code",
   "execution_count": 12,
   "metadata": {
    "collapsed": false
   },
   "outputs": [
    {
     "data": {
      "text/plain": [
       "0.80000000000000004"
      ]
     },
     "execution_count": 12,
     "metadata": {},
     "output_type": "execute_result"
    }
   ],
   "source": [
    "np.std(arr_2) "
   ]
  },
  {
   "cell_type": "code",
   "execution_count": 13,
   "metadata": {
    "collapsed": true
   },
   "outputs": [],
   "source": [
    "#これらを比較すればいいことになります。"
   ]
  },
  {
   "cell_type": "code",
   "execution_count": 14,
   "metadata": {
    "collapsed": true
   },
   "outputs": [],
   "source": [
    "#では、今までは分散、標準偏差と、調査対象がひとつの数の集まりについてに限定されていました。\n",
    "#でも、例えばある国Xとある国Yの所持金アンケートの結果はお互い関係があるかどうかも知ると便利かもしれませんよね？\n",
    "#そこで、そんな２つの数字のグループを対象とした調査をしたい人のために、共分散という概念が作られました。"
   ]
  },
  {
   "cell_type": "code",
   "execution_count": 15,
   "metadata": {
    "collapsed": true
   },
   "outputs": [],
   "source": [
    "#共分散の考え方は、あるグループの数からとりあえず平均値を出して差し引いておきます。\n",
    "#先ほどのある国XとYの話でも平均値を基準にするために得られた値から平均値を取り除いたのと同じコンセプトです。まあやってみましょう。"
   ]
  },
  {
   "cell_type": "code",
   "execution_count": 17,
   "metadata": {
    "collapsed": false
   },
   "outputs": [
    {
     "data": {
      "text/plain": [
       "24.199999999999999"
      ]
     },
     "execution_count": 17,
     "metadata": {},
     "output_type": "execute_result"
    }
   ],
   "source": [
    "arr_1 = np.array([[5],[24],[54],[14],[24]])\n",
    "arr_1_mean = arr_1.mean()\n",
    "arr_1_mean"
   ]
  },
  {
   "cell_type": "code",
   "execution_count": 43,
   "metadata": {
    "collapsed": false
   },
   "outputs": [
    {
     "data": {
      "text/plain": [
       "array([-19.2,  -0.2,  29.8, -10.2,  -0.2])"
      ]
     },
     "execution_count": 43,
     "metadata": {},
     "output_type": "execute_result"
    }
   ],
   "source": [
    "arr_1_meandrop = np.array([])\n",
    "for i in arr_1:\n",
    "    g = i - arr_1_mean\n",
    "    arr_1_meandrop = np.append(arr_1_meandrop, g)\n",
    "arr_1_meandrop"
   ]
  },
  {
   "cell_type": "code",
   "execution_count": 44,
   "metadata": {
    "collapsed": false
   },
   "outputs": [],
   "source": [
    " #ある国Xの所持金アンケート結果から平均値をとったアレイになりました。では続けてある国Yの所持金アンケートから平均値をとったアレイを作りましょう"
   ]
  },
  {
   "cell_type": "code",
   "execution_count": 45,
   "metadata": {
    "collapsed": false
   },
   "outputs": [
    {
     "data": {
      "text/plain": [
       "10.6"
      ]
     },
     "execution_count": 45,
     "metadata": {},
     "output_type": "execute_result"
    }
   ],
   "source": [
    "arr_2 = np.array([[10],[10],[10],[11],[12]])\n",
    "arr_2_mean = arr_2.mean()\n",
    "arr_2_mean"
   ]
  },
  {
   "cell_type": "code",
   "execution_count": 46,
   "metadata": {
    "collapsed": false
   },
   "outputs": [
    {
     "data": {
      "text/plain": [
       "array([-0.6, -0.6, -0.6,  0.4,  1.4])"
      ]
     },
     "execution_count": 46,
     "metadata": {},
     "output_type": "execute_result"
    }
   ],
   "source": [
    "arr_2_meandrop = np.array([])\n",
    "for j in arr_2:\n",
    "    h = j - arr_2_mean\n",
    "    arr_2_meandrop = np.append(arr_2_meandrop, h)\n",
    "arr_2_meandrop"
   ]
  },
  {
   "cell_type": "code",
   "execution_count": 47,
   "metadata": {
    "collapsed": true
   },
   "outputs": [],
   "source": [
    "#ある国Yの所持金アンケート結果から平均値をとったアレイになりました。\n",
    "#さて、これをちょっと見てみましょう。ぱっと見ですけれども、\n",
    "#ある国X:array([-19.2,  -0.2,  29.8, -10.2,  -0.2])\n",
    "#ある国Y:array([-0.6, -0.6, -0.6,  0.4,  1.4])\n",
    "#ある国XとYはXの所持金が多くなっても、少なくなってもなんだか連動しなさそうですね・・・^^;これでは、共分散便利ということにはなりません。\n",
    "#と、いうわけでさらにもうひとつ架空の国を作りましょう"
   ]
  },
  {
   "cell_type": "code",
   "execution_count": 48,
   "metadata": {
    "collapsed": true
   },
   "outputs": [],
   "source": [
    "#ある国Zの適当に声をかけた人５人の所持金（単位：ドル）とするとき、(100ドル、２00ドル、５00ドル、１４0ドル、50ドル)であった。\n",
    "#と、しましょう。\n",
    "#念のため平均値、分散、標準偏差を求めておきましょう"
   ]
  },
  {
   "cell_type": "code",
   "execution_count": 49,
   "metadata": {
    "collapsed": false
   },
   "outputs": [
    {
     "data": {
      "text/plain": [
       "198.0"
      ]
     },
     "execution_count": 49,
     "metadata": {},
     "output_type": "execute_result"
    }
   ],
   "source": [
    "arr_3 = np.array([[100],[200],[500],[140],[50]])\n",
    "arr_3_mean = arr_3.mean()\n",
    "arr_3_mean"
   ]
  },
  {
   "cell_type": "code",
   "execution_count": 52,
   "metadata": {
    "collapsed": false
   },
   "outputs": [
    {
     "data": {
      "text/plain": [
       "25216.0"
      ]
     },
     "execution_count": 52,
     "metadata": {},
     "output_type": "execute_result"
    }
   ],
   "source": [
    "np.var(arr_3) "
   ]
  },
  {
   "cell_type": "code",
   "execution_count": 53,
   "metadata": {
    "collapsed": false
   },
   "outputs": [
    {
     "data": {
      "text/plain": [
       "158.79546593023366"
      ]
     },
     "execution_count": 53,
     "metadata": {},
     "output_type": "execute_result"
    }
   ],
   "source": [
    "np.std(arr_3) "
   ]
  },
  {
   "cell_type": "code",
   "execution_count": 54,
   "metadata": {
    "collapsed": true
   },
   "outputs": [],
   "source": [
    "#国Zは他の国と比べて大分貧富の差がある感じになりましたね^^;\n",
    "#では、ある国Zの所持金アンケート結果から平均値をとったアレイも計算してみましょう"
   ]
  },
  {
   "cell_type": "code",
   "execution_count": 56,
   "metadata": {
    "collapsed": false
   },
   "outputs": [
    {
     "data": {
      "text/plain": [
       "array([ -98.,    2.,  302.,  -58., -148.])"
      ]
     },
     "execution_count": 56,
     "metadata": {},
     "output_type": "execute_result"
    }
   ],
   "source": [
    "arr_3_meandrop = np.array([])\n",
    "for k in arr_3:\n",
    "    l = k - arr_3_mean\n",
    "    arr_3_meandrop = np.append(arr_3_meandrop, l)\n",
    "arr_3_meandrop"
   ]
  },
  {
   "cell_type": "code",
   "execution_count": 57,
   "metadata": {
    "collapsed": true
   },
   "outputs": [],
   "source": [
    "#さて、これをちょっと見てみましょう。ぱっと見ですけれども、\n",
    "#ある国X:array([-19.2,  -0.2,  29.8, -10.2,  -0.2])\n",
    "#ある国Y:array([-0.6, -0.6, -0.6,  0.4,  1.4])\n",
    "#ある国Z:aarray([ -98.,    2.,  302.,  -58., -148.])\n",
    "#ある国XとZを比べてみると、なんだか関係ありそうな感じはしますね、つまり、X:-19.2のとき対応要素はZ:-98,\n",
    "#X:-０．２（ちょっと平均値近づくと）のとき対応要素はZ:-２(Zもかなり近づきましたね)\n",
    "#X:２９．８（ぐっとあがった）のとき対応要素はZ:３０２（こちらもぐっとあがった）、\n",
    "#この関係性を数値で示したい、そんなときは、対応する要素をかけてしまって、そのかけたもののトータルが大きければ大きいほど、連動してるよねと言える\n",
    "#（２つのグループの対応要素が互いにマイナスの値の場合はかけると、正。お互い正の値の場合もかけると正　になる　＝　同じ方向への連動しているポイントアップ）\n",
    "#(２つのグループの対応要素の符合が違うと、かけたらマイナスの値になるので逆方向に連動しているポイントアップという意味になる\n",
    "#と、いうわけで共分散は、（グループ１の対応要素の値-平均）×（グループ２の対応要素の値-平均）を一個一個たしていく（今回の場合はデータが５個ずつなので５回）\n",
    "#さらに、数値の個数でわる（今回は５。理由は、他の分析したグループの共分散の値と比較できるから）　ということででてきます。\n",
    "\n",
    "#参考になりそうなリンク\n",
    "#http://emoson.hateblo.jp/entry/2014/10/26/133736\n",
    "\n",
    "#数式で書くと、\n",
    "#Cov(X,Y)=E[(X−μX)(Y−μY)]\n",
    "#Cov(X,Y)：データXとデータYの共分散という意味\n",
    "#E[〜]：〜内の期待値（＝平均）つまり、データの個数で割ってくれということ\n",
    "#(X−μX)：データXの値を平均μXから引いた値\n",
    "#(Y−μY)：データYの値を平均μYから引いた値\n",
    "#(X−μX)(Y−μY)：データXの値を平均μXから引いた値とデータYの値を平均μYから引いた値をかけた値\n",
    "#E[(X−μX)(Y−μY)]データXの値を平均μXから引いた値とデータYの値を平均μYから引いた値をかけた値をデータのセットの個数で割った値（＝共分散）\n",
    "#と、なる"
   ]
  },
  {
   "cell_type": "code",
   "execution_count": 58,
   "metadata": {
    "collapsed": true
   },
   "outputs": [],
   "source": [
    "#さて、計算してみよ〜^o^/"
   ]
  },
  {
   "cell_type": "code",
   "execution_count": 59,
   "metadata": {
    "collapsed": false
   },
   "outputs": [
    {
     "data": {
      "text/plain": [
       "array([[   340.2,   2875.5],\n",
       "       [  2875.5,  31520. ]])"
      ]
     },
     "execution_count": 59,
     "metadata": {},
     "output_type": "execute_result"
    }
   ],
   "source": [
    "np.cov(arr_1_meandrop, arr_3_meandrop)"
   ]
  },
  {
   "cell_type": "code",
   "execution_count": 63,
   "metadata": {
    "collapsed": true
   },
   "outputs": [],
   "source": [
    "#2875.5ですね、\n",
    "#numpyのcovメソッドは、分散共分散行列で返ってくるため、340.2はarr_1_meandropの分散、３１５２０は、arr_３_meandropの分散となっています。\n",
    "#この分散共分散行列は統計学的にあとあと処理しやすい（例えば、複数グループの共分散を一気に比較できる）ので、numpyは考慮されているということです。"
   ]
  },
  {
   "cell_type": "code",
   "execution_count": 64,
   "metadata": {
    "collapsed": false
   },
   "outputs": [],
   "source": [
    "#でも、なんかしらないけど、３次元はできないっぽい　こういうの：np.cov(arr_1_meandrop, arr_2_meandrop, arr_3_meandrop)\n",
    "#SciKit-Learnでできるようだ・・・"
   ]
  },
  {
   "cell_type": "code",
   "execution_count": null,
   "metadata": {
    "collapsed": true
   },
   "outputs": [],
   "source": [
    "#おしまい^^"
   ]
  }
 ],
 "metadata": {
  "kernelspec": {
   "display_name": "Python 2",
   "language": "python",
   "name": "python2"
  },
  "language_info": {
   "codemirror_mode": {
    "name": "ipython",
    "version": 2
   },
   "file_extension": ".py",
   "mimetype": "text/x-python",
   "name": "python",
   "nbconvert_exporter": "python",
   "pygments_lexer": "ipython2",
   "version": "2.7.10"
  }
 },
 "nbformat": 4,
 "nbformat_minor": 1
}
